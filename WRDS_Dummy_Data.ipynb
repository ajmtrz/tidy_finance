{
 "cells": [
  {
   "cell_type": "markdown",
   "metadata": {},
   "source": [
    "# [WRDS Dummy Data](https://www.tidy-finance.org/python/wrds-dummy-data.html)"
   ]
  },
  {
   "cell_type": "code",
   "execution_count": 4,
   "metadata": {},
   "outputs": [],
   "source": [
    "import pandas as pd\n",
    "import numpy as np\n",
    "import sqlite3\n",
    "import string"
   ]
  },
  {
   "cell_type": "code",
   "execution_count": 5,
   "metadata": {},
   "outputs": [],
   "source": [
    "tidy_finance = sqlite3.connect(database=\"data/tidy_finance_python.sqlite\")"
   ]
  },
  {
   "cell_type": "code",
   "execution_count": 3,
   "metadata": {},
   "outputs": [],
   "source": [
    "np.random.seed(1234)\n",
    "\n",
    "start_date = pd.Timestamp(\"2003-01-01\")\n",
    "end_date = pd.Timestamp(\"2022-12-31\")\n",
    "\n",
    "dummy_years = np.arange(start_date.year, end_date.year+1, 1)\n",
    "dummy_months = pd.date_range(start_date, end_date, freq=\"ME\")\n",
    "dummy_days = pd.date_range(start_date, end_date, freq=\"D\")"
   ]
  },
  {
   "cell_type": "markdown",
   "metadata": {},
   "source": [
    "# [Create Stock Dummy Data](https://www.tidy-finance.org/python/wrds-dummy-data.html#create-stock-dummy-data)"
   ]
  },
  {
   "cell_type": "code",
   "execution_count": 4,
   "metadata": {},
   "outputs": [],
   "source": [
    "number_of_stocks = 100\n",
    "\n",
    "industries = pd.DataFrame({\n",
    "    \"industry\": [\"Agriculture\", \"Construction\", \"Finance\",\n",
    "                 \"Manufacturing\", \"Mining\", \"Public\", \"Retail\",\n",
    "                 \"Services\", \"Transportation\", \"Utilities\", \"Wholesale\"],\n",
    "    \"n\": [81, 287, 4682, 8584, 1287, 1974, 1571, 4277, 1249, 457, 904],\n",
    "    \"prob\": [0.00319, 0.0113, 0.185, 0.339, 0.0508, 0.0779, \n",
    "           0.0620, 0.169, 0.0493, 0.0180, 0.03451]\n",
    "})\n",
    "\n",
    "exchanges = pd.DataFrame({\n",
    "    \"exchange\": [\"AMEX\", \"NASDAQ\", \"NYSE\"],\n",
    "    \"n\": [2893, 17236, 5553],\n",
    "    \"prob\": [0.113, 0.671, 0.216]\n",
    "})\n",
    "\n",
    "stock_identifiers_list = []\n",
    "for x in range(1, number_of_stocks+1):\n",
    "    exchange = np.random.choice(exchanges[\"exchange\"], p=exchanges[\"prob\"])\n",
    "    industry = np.random.choice(industries[\"industry\"], p=industries[\"prob\"])\n",
    "\n",
    "    exchcd_mapping = {\n",
    "        \"NYSE\": np.random.choice([1, 31]),\n",
    "        \"AMEX\": np.random.choice([2, 32]),\n",
    "        \"NASDAQ\": np.random.choice([3, 33])\n",
    "    }\n",
    "\n",
    "    siccd_mapping = {\n",
    "        \"Agriculture\": np.random.randint(1, 1000),\n",
    "        \"Mining\": np.random.randint(1000, 1500),\n",
    "        \"Construction\": np.random.randint(1500, 1800),\n",
    "        \"Manufacturing\": np.random.randint(1800, 4000),\n",
    "        \"Transportation\": np.random.randint(4000, 4900),\n",
    "        \"Utilities\": np.random.randint(4900, 5000),\n",
    "        \"Wholesale\": np.random.randint(5000, 5200),\n",
    "        \"Retail\": np.random.randint(5200, 6000),\n",
    "        \"Finance\": np.random.randint(6000, 6800),\n",
    "        \"Services\": np.random.randint(7000, 9000),\n",
    "        \"Public\": np.random.randint(9000, 10000)\n",
    "    }\n",
    "\n",
    "    stock_identifiers_list.append({\n",
    "        \"permno\": x,\n",
    "        \"gvkey\": str(x+10000),\n",
    "        \"exchange\": exchange,\n",
    "        \"industry\": industry,\n",
    "        \"exchcd\": exchcd_mapping[exchange],\n",
    "        \"siccd\": siccd_mapping[industry]\n",
    "    })\n",
    "\n",
    "stock_identifiers = pd.DataFrame(stock_identifiers_list)"
   ]
  },
  {
   "cell_type": "code",
   "execution_count": 5,
   "metadata": {},
   "outputs": [],
   "source": [
    "stock_panel_yearly = pd.DataFrame({\n",
    "    \"gvkey\": np.tile(stock_identifiers[\"gvkey\"], len(dummy_years)),\n",
    "    \"year\": np.repeat(dummy_years, len(stock_identifiers))\n",
    "})\n",
    "\n",
    "stock_panel_monthly = pd.DataFrame({\n",
    "    \"permno\": np.tile(stock_identifiers[\"permno\"], len(dummy_months)),\n",
    "    \"gvkey\": np.tile(stock_identifiers[\"gvkey\"], len(dummy_months)),\n",
    "    \"month\": np.repeat(dummy_months, len(stock_identifiers)),\n",
    "    \"siccd\": np.tile(stock_identifiers[\"siccd\"], len(dummy_months)),\n",
    "    \"industry\": np.tile(stock_identifiers[\"industry\"], len(dummy_months)),\n",
    "    \"exchcd\": np.tile(stock_identifiers[\"exchcd\"], len(dummy_months)),\n",
    "    \"exchange\": np.tile(stock_identifiers[\"exchange\"], len(dummy_months))\n",
    "})\n",
    "\n",
    "stock_panel_daily = pd.DataFrame({\n",
    "    \"permno\": np.tile(stock_identifiers[\"permno\"], len(dummy_days)),\n",
    "    \"date\": np.repeat(dummy_days, len(stock_identifiers))\n",
    "})"
   ]
  },
  {
   "cell_type": "markdown",
   "metadata": {},
   "source": [
    "## [Dummy beta table](https://www.tidy-finance.org/python/wrds-dummy-data.html#dummy-beta-table)"
   ]
  },
  {
   "cell_type": "code",
   "execution_count": 6,
   "metadata": {},
   "outputs": [
    {
     "data": {
      "text/plain": [
       "24000"
      ]
     },
     "execution_count": 6,
     "metadata": {},
     "output_type": "execute_result"
    }
   ],
   "source": [
    "beta_dummy = (stock_panel_monthly\n",
    "    .assign(\n",
    "        beta_monthly=np.random.normal(\n",
    "            loc=1, scale=1, size=len(stock_panel_monthly)\n",
    "    ),\n",
    "        beta_daily=lambda x: (\n",
    "            x[\"beta_monthly\"]+np.random.normal(scale=0.01, size=len(x))\n",
    "        )\n",
    "    )\n",
    ")\n",
    "\n",
    "(beta_dummy\n",
    "    .to_sql(name=\"beta\",\n",
    "            con=tidy_finance,\n",
    "            if_exists=\"replace\",\n",
    "            index = False)\n",
    ")"
   ]
  },
  {
   "cell_type": "markdown",
   "metadata": {},
   "source": [
    "## [Dummy compustat table](https://www.tidy-finance.org/python/wrds-dummy-data.html#dummy-compustat-table)"
   ]
  },
  {
   "cell_type": "code",
   "execution_count": 7,
   "metadata": {},
   "outputs": [
    {
     "data": {
      "text/plain": [
       "2000"
      ]
     },
     "execution_count": 7,
     "metadata": {},
     "output_type": "execute_result"
    }
   ],
   "source": [
    "relevant_columns = [\n",
    "    \"seq\", \"ceq\", \"at\", \"lt\", \"txditc\", \"txdb\", \"itcb\",\n",
    "    \"pstkrv\", \"pstkl\", \"pstk\", \"capx\", \"oancf\", \"sale\",\n",
    "    \"cogs\", \"xint\", \"xsga\", \"be\", \"op\", \"at_lag\", \"inv\"\n",
    "]\n",
    "\n",
    "commands = {\n",
    "    col: np.random.rand(len(stock_panel_yearly)) for col in relevant_columns\n",
    "}\n",
    "\n",
    "compustat_dummy = (\n",
    "    stock_panel_yearly\n",
    "    .assign(\n",
    "        datadate=lambda x: pd.to_datetime(x[\"year\"].astype(str)+\"-12-31\")\n",
    "    )\n",
    "    .assign(**commands)\n",
    ")\n",
    "\n",
    "(compustat_dummy\n",
    "    .to_sql(name=\"compustat\",\n",
    "            con=tidy_finance,\n",
    "            if_exists=\"replace\",\n",
    "            index=False)\n",
    ")"
   ]
  },
  {
   "cell_type": "markdown",
   "metadata": {},
   "source": [
    "## [Dummy crsp_monthly table](https://www.tidy-finance.org/python/wrds-dummy-data.html#dummy-crsp_monthly-table)"
   ]
  },
  {
   "cell_type": "code",
   "execution_count": 8,
   "metadata": {},
   "outputs": [
    {
     "data": {
      "text/plain": [
       "24000"
      ]
     },
     "execution_count": 8,
     "metadata": {},
     "output_type": "execute_result"
    }
   ],
   "source": [
    "crsp_monthly_dummy = (stock_panel_monthly\n",
    "    .assign(\n",
    "        date=lambda x: x[\"month\"]+pd.offsets.MonthEnd(-1),\n",
    "        ret=lambda x: np.fmax(np.random.normal(size=len(x)), -1),\n",
    "        ret_excess=lambda x: (\n",
    "            np.fmax(x[\"ret\"]-np.random.uniform(0, 0.0025, len(x)), -1)\n",
    "        ),\n",
    "        shrout=1000*np.random.uniform(1, 50, len(stock_panel_monthly)),\n",
    "        altprc=np.random.uniform(0, 1000, len(stock_panel_monthly))\n",
    "    )\n",
    "    .assign(mktcap=lambda x: x[\"shrout\"]*x[\"altprc\"])\n",
    "    .sort_values(by=[\"permno\", \"month\"])\n",
    "    .assign(\n",
    "        mktcap_lag=lambda x: (x.groupby(\"permno\")[\"mktcap\"].shift(1))\n",
    "    )\n",
    "    .reset_index(drop=True)\n",
    ")\n",
    "\n",
    "(crsp_monthly_dummy\n",
    "    .to_sql(name=\"crsp_monthly\",\n",
    "            con=tidy_finance,\n",
    "            if_exists=\"replace\",\n",
    "            index=False)\n",
    ")"
   ]
  },
  {
   "cell_type": "markdown",
   "metadata": {},
   "source": [
    "## [Dummy crsp_daily table](https://www.tidy-finance.org/python/wrds-dummy-data.html#dummy-crsp_daily-table)"
   ]
  },
  {
   "cell_type": "code",
   "execution_count": 9,
   "metadata": {},
   "outputs": [
    {
     "data": {
      "text/plain": [
       "730500"
      ]
     },
     "execution_count": 9,
     "metadata": {},
     "output_type": "execute_result"
    }
   ],
   "source": [
    "crsp_daily_dummy = (stock_panel_daily\n",
    "    .assign(\n",
    "        month=lambda x: x[\"date\"]-pd.offsets.MonthBegin(1),\n",
    "        ret_excess=lambda x: np.fmax(np.random.normal(size=len(x)), -1)\n",
    "    )\n",
    "    .reset_index(drop=True)\n",
    ")\n",
    "\n",
    "(crsp_daily_dummy\n",
    "    .to_sql(name=\"crsp_daily\",\n",
    "            con=tidy_finance,\n",
    "            if_exists=\"replace\",\n",
    "            index=False)\n",
    ")"
   ]
  },
  {
   "cell_type": "markdown",
   "metadata": {},
   "source": [
    "# [Create Bond Dummy Data](https://www.tidy-finance.org/python/wrds-dummy-data.html#create-bond-dummy-data)"
   ]
  },
  {
   "cell_type": "markdown",
   "metadata": {},
   "source": [
    "## [Dummy fisd data](https://www.tidy-finance.org/python/wrds-dummy-data.html#dummy-fisd-data)"
   ]
  },
  {
   "cell_type": "code",
   "execution_count": 11,
   "metadata": {},
   "outputs": [
    {
     "data": {
      "text/plain": [
       "100"
      ]
     },
     "execution_count": 11,
     "metadata": {},
     "output_type": "execute_result"
    }
   ],
   "source": [
    "number_of_bonds = 100\n",
    "\n",
    "def generate_cusip():\n",
    "    \"\"\"Generate cusip.\"\"\"\n",
    "\n",
    "    characters = list(string.ascii_uppercase+string.digits)\n",
    "    cusip = (\"\".join(np.random.choice(characters, size=12))).upper()\n",
    "\n",
    "    return cusip\n",
    "\n",
    "fisd_dummy = (pd.DataFrame({\n",
    "    \"complete_cusip\": [generate_cusip() for _ in range(number_of_bonds)]\n",
    "    })\n",
    "    .assign(\n",
    "        maturity=lambda x: np.random.choice(dummy_days, len(x), replace=True),\n",
    "        offering_amt=lambda x: np.random.choice(\n",
    "            np.arange(1, 101)*100000, len(x), replace=True\n",
    "        )\n",
    "    )\n",
    "    .assign(\n",
    "        offering_date=lambda x: (\n",
    "            x[\"maturity\"]-pd.to_timedelta(\n",
    "                np.random.choice(np.arange(1, 26)*365, len(x), replace=True),\n",
    "                unit=\"D\"\n",
    "            )\n",
    "        )\n",
    "    )\n",
    "    .assign(\n",
    "        dated_date=lambda x: (\n",
    "            x[\"offering_date\"]-pd.to_timedelta(\n",
    "                np.random.choice(np.arange(-10, 11), len(x), replace=True),\n",
    "                unit=\"D\"\n",
    "            )\n",
    "        ),\n",
    "        coupon=lambda x: np.random.choice(\n",
    "            np.arange(0, 2.1, 0.1), len(x), replace=True\n",
    "        )\n",
    "    )\n",
    "    .assign(\n",
    "        last_interest_rate=lambda x: (\n",
    "            x[[\"maturity\", \"offering_date\", \"dated_date\"]].max(axis=1)\n",
    "        ),\n",
    "        issue_id=lambda x: x.index+1,\n",
    "        issuer_id=lambda x: np.random.choice(\n",
    "            np.arange(1, 251), len(x), replace=True\n",
    "        ),\n",
    "        sic_code=lambda x: (np.random.choice(\n",
    "            np.arange(1, 10)*1000, len(x), replace=True)\n",
    "        ).astype(str)\n",
    "    )\n",
    ")\n",
    "\n",
    "(fisd_dummy\n",
    "    .to_sql(name=\"fisd\",\n",
    "            con=tidy_finance,\n",
    "            if_exists=\"replace\",\n",
    "            index=False)\n",
    ")"
   ]
  },
  {
   "cell_type": "markdown",
   "metadata": {},
   "source": [
    "## [Dummy trace_enhanced data](https://www.tidy-finance.org/python/wrds-dummy-data.html#dummy-trace_enhanced-data)"
   ]
  },
  {
   "cell_type": "code",
   "execution_count": 12,
   "metadata": {},
   "outputs": [
    {
     "data": {
      "text/plain": [
       "532500"
      ]
     },
     "execution_count": 12,
     "metadata": {},
     "output_type": "execute_result"
    }
   ],
   "source": [
    "number_of_bonds = 100\n",
    "start_date = pd.Timestamp(\"2014-01-01\")\n",
    "end_date = pd.Timestamp(\"2016-11-30\")\n",
    "\n",
    "bonds_panel = pd.DataFrame({\n",
    "    \"cusip_id\": np.tile(\n",
    "        fisd_dummy[\"complete_cusip\"],\n",
    "        (end_date-start_date).days+1\n",
    "    ),\n",
    "    \"trd_exctn_dt\":np.repeat(\n",
    "        pd.date_range(start_date, end_date), len(fisd_dummy)\n",
    "    )\n",
    "})\n",
    "\n",
    "trace_enhanced_dummy = (pd.concat([bonds_panel]*5)\n",
    "    .assign(\n",
    "        trd_exctn_tm = lambda x: pd.to_datetime(\n",
    "            x[\"trd_exctn_dt\"].astype(str)+\" \" +\n",
    "            np.random.randint(0, 24, size=len(x)).astype(str)+\":\" +\n",
    "            np.random.randint(0, 60, size=len(x)).astype(str)+\":\" +\n",
    "            np.random.randint(0, 60, size=len(x)).astype(str)\n",
    "        ),\n",
    "        rptd_pr=np.random.uniform(10, 200, len(bonds_panel)*5),\n",
    "        entrd_vol_qt=1000*np.random.choice(\n",
    "            range(1, 21), len(bonds_panel)*5, replace=True\n",
    "        ),\n",
    "        yld_pt=np.random.uniform(-10, 10, len(bonds_panel)*5),\n",
    "        rpt_side_cd=np.random.choice(\n",
    "            [\"B\", \"S\"], len(bonds_panel)*5, replace=True\n",
    "        ),\n",
    "        cntra_mp_id=np.random.choice(\n",
    "            [\"C\", \"D\"], len(bonds_panel)*5, replace=True\n",
    "        )\n",
    "    )\n",
    "    .reset_index(drop=True)\n",
    ")\n",
    "\n",
    "(trace_enhanced_dummy\n",
    "    .to_sql(name=\"trace_enhanced\",\n",
    "            con=tidy_finance,\n",
    "            if_exists=\"replace\",\n",
    "            index=False)\n",
    ")"
   ]
  },
  {
   "cell_type": "markdown",
   "metadata": {},
   "source": [
    "# [Exercises](https://www.tidy-finance.org/python/wrds-crsp-and-compustat.html#exercises)"
   ]
  },
  {
   "cell_type": "markdown",
   "metadata": {},
   "source": [
    "## 1."
   ]
  },
  {
   "cell_type": "code",
   "execution_count": 109,
   "metadata": {},
   "outputs": [
    {
     "name": "stdout",
     "output_type": "stream",
     "text": [
      "self     99\n",
      "other     0\n",
      "dtype: int64\n"
     ]
    }
   ],
   "source": [
    "# Get crsp_monthly table\n",
    "crsp_monthly = pd.read_sql_query(\n",
    "    sql='SELECT * FROM crsp_monthly',\n",
    "    con=tidy_finance,\n",
    "    parse_dates='month')\n",
    "# manually lag mktcap column\n",
    "mktcap_lag = crsp_monthly['mktcap'].shift(1)\n",
    "# why are there nan values in original column?\n",
    "print(crsp_monthly['mktcap_lag'].compare(mktcap_lag).isna().sum())"
   ]
  },
  {
   "cell_type": "code",
   "execution_count": 117,
   "metadata": {},
   "outputs": [
    {
     "data": {
      "text/html": [
       "<div>\n",
       "<style scoped>\n",
       "    .dataframe tbody tr th:only-of-type {\n",
       "        vertical-align: middle;\n",
       "    }\n",
       "\n",
       "    .dataframe tbody tr th {\n",
       "        vertical-align: top;\n",
       "    }\n",
       "\n",
       "    .dataframe thead th {\n",
       "        text-align: right;\n",
       "    }\n",
       "</style>\n",
       "<table border=\"1\" class=\"dataframe\">\n",
       "  <thead>\n",
       "    <tr style=\"text-align: right;\">\n",
       "      <th></th>\n",
       "      <th>permno</th>\n",
       "      <th>gvkey</th>\n",
       "      <th>month</th>\n",
       "      <th>siccd</th>\n",
       "      <th>industry</th>\n",
       "      <th>exchcd</th>\n",
       "      <th>exchange</th>\n",
       "      <th>date</th>\n",
       "      <th>ret</th>\n",
       "      <th>ret_excess</th>\n",
       "      <th>shrout</th>\n",
       "      <th>altprc</th>\n",
       "      <th>mktcap</th>\n",
       "      <th>mktcap_lag</th>\n",
       "    </tr>\n",
       "  </thead>\n",
       "  <tbody>\n",
       "    <tr>\n",
       "      <th>0</th>\n",
       "      <td>1</td>\n",
       "      <td>10001</td>\n",
       "      <td>2003-01-31</td>\n",
       "      <td>9794</td>\n",
       "      <td>Public</td>\n",
       "      <td>3</td>\n",
       "      <td>NASDAQ</td>\n",
       "      <td>2002-12-31 00:00:00</td>\n",
       "      <td>-1.000000</td>\n",
       "      <td>-1.000000</td>\n",
       "      <td>15572.481069</td>\n",
       "      <td>752.415572</td>\n",
       "      <td>1.171698e+07</td>\n",
       "      <td>NaN</td>\n",
       "    </tr>\n",
       "    <tr>\n",
       "      <th>240</th>\n",
       "      <td>2</td>\n",
       "      <td>10002</td>\n",
       "      <td>2003-01-31</td>\n",
       "      <td>1746</td>\n",
       "      <td>Construction</td>\n",
       "      <td>3</td>\n",
       "      <td>NASDAQ</td>\n",
       "      <td>2002-12-31 00:00:00</td>\n",
       "      <td>-0.318671</td>\n",
       "      <td>-0.319585</td>\n",
       "      <td>28229.059133</td>\n",
       "      <td>351.189046</td>\n",
       "      <td>9.913736e+06</td>\n",
       "      <td>NaN</td>\n",
       "    </tr>\n",
       "    <tr>\n",
       "      <th>480</th>\n",
       "      <td>3</td>\n",
       "      <td>10003</td>\n",
       "      <td>2003-01-31</td>\n",
       "      <td>6619</td>\n",
       "      <td>Finance</td>\n",
       "      <td>33</td>\n",
       "      <td>NASDAQ</td>\n",
       "      <td>2002-12-31 00:00:00</td>\n",
       "      <td>0.026657</td>\n",
       "      <td>0.024397</td>\n",
       "      <td>37935.369553</td>\n",
       "      <td>385.264061</td>\n",
       "      <td>1.461513e+07</td>\n",
       "      <td>NaN</td>\n",
       "    </tr>\n",
       "    <tr>\n",
       "      <th>720</th>\n",
       "      <td>4</td>\n",
       "      <td>10004</td>\n",
       "      <td>2003-01-31</td>\n",
       "      <td>6041</td>\n",
       "      <td>Finance</td>\n",
       "      <td>1</td>\n",
       "      <td>NYSE</td>\n",
       "      <td>2002-12-31 00:00:00</td>\n",
       "      <td>0.034140</td>\n",
       "      <td>0.032324</td>\n",
       "      <td>28567.382632</td>\n",
       "      <td>553.269631</td>\n",
       "      <td>1.580547e+07</td>\n",
       "      <td>NaN</td>\n",
       "    </tr>\n",
       "    <tr>\n",
       "      <th>960</th>\n",
       "      <td>5</td>\n",
       "      <td>10005</td>\n",
       "      <td>2003-01-31</td>\n",
       "      <td>4686</td>\n",
       "      <td>Transportation</td>\n",
       "      <td>1</td>\n",
       "      <td>NYSE</td>\n",
       "      <td>2002-12-31 00:00:00</td>\n",
       "      <td>-0.341532</td>\n",
       "      <td>-0.343174</td>\n",
       "      <td>15607.050442</td>\n",
       "      <td>677.585036</td>\n",
       "      <td>1.057510e+07</td>\n",
       "      <td>NaN</td>\n",
       "    </tr>\n",
       "    <tr>\n",
       "      <th>...</th>\n",
       "      <td>...</td>\n",
       "      <td>...</td>\n",
       "      <td>...</td>\n",
       "      <td>...</td>\n",
       "      <td>...</td>\n",
       "      <td>...</td>\n",
       "      <td>...</td>\n",
       "      <td>...</td>\n",
       "      <td>...</td>\n",
       "      <td>...</td>\n",
       "      <td>...</td>\n",
       "      <td>...</td>\n",
       "      <td>...</td>\n",
       "      <td>...</td>\n",
       "    </tr>\n",
       "    <tr>\n",
       "      <th>22800</th>\n",
       "      <td>96</td>\n",
       "      <td>10096</td>\n",
       "      <td>2003-01-31</td>\n",
       "      <td>9884</td>\n",
       "      <td>Public</td>\n",
       "      <td>31</td>\n",
       "      <td>NYSE</td>\n",
       "      <td>2002-12-31 00:00:00</td>\n",
       "      <td>0.621609</td>\n",
       "      <td>0.619888</td>\n",
       "      <td>4376.443315</td>\n",
       "      <td>252.739474</td>\n",
       "      <td>1.106100e+06</td>\n",
       "      <td>NaN</td>\n",
       "    </tr>\n",
       "    <tr>\n",
       "      <th>23040</th>\n",
       "      <td>97</td>\n",
       "      <td>10097</td>\n",
       "      <td>2003-01-31</td>\n",
       "      <td>7821</td>\n",
       "      <td>Services</td>\n",
       "      <td>3</td>\n",
       "      <td>NASDAQ</td>\n",
       "      <td>2002-12-31 00:00:00</td>\n",
       "      <td>-0.804507</td>\n",
       "      <td>-0.806231</td>\n",
       "      <td>8616.509513</td>\n",
       "      <td>278.873514</td>\n",
       "      <td>2.402916e+06</td>\n",
       "      <td>NaN</td>\n",
       "    </tr>\n",
       "    <tr>\n",
       "      <th>23280</th>\n",
       "      <td>98</td>\n",
       "      <td>10098</td>\n",
       "      <td>2003-01-31</td>\n",
       "      <td>2021</td>\n",
       "      <td>Manufacturing</td>\n",
       "      <td>3</td>\n",
       "      <td>NASDAQ</td>\n",
       "      <td>2002-12-31 00:00:00</td>\n",
       "      <td>-0.231012</td>\n",
       "      <td>-0.232311</td>\n",
       "      <td>45160.982936</td>\n",
       "      <td>961.714508</td>\n",
       "      <td>4.343197e+07</td>\n",
       "      <td>NaN</td>\n",
       "    </tr>\n",
       "    <tr>\n",
       "      <th>23520</th>\n",
       "      <td>99</td>\n",
       "      <td>10099</td>\n",
       "      <td>2003-01-31</td>\n",
       "      <td>9347</td>\n",
       "      <td>Public</td>\n",
       "      <td>3</td>\n",
       "      <td>NASDAQ</td>\n",
       "      <td>2002-12-31 00:00:00</td>\n",
       "      <td>-0.264879</td>\n",
       "      <td>-0.267014</td>\n",
       "      <td>47818.441230</td>\n",
       "      <td>942.507561</td>\n",
       "      <td>4.506924e+07</td>\n",
       "      <td>NaN</td>\n",
       "    </tr>\n",
       "    <tr>\n",
       "      <th>23760</th>\n",
       "      <td>100</td>\n",
       "      <td>10100</td>\n",
       "      <td>2003-01-31</td>\n",
       "      <td>7726</td>\n",
       "      <td>Services</td>\n",
       "      <td>33</td>\n",
       "      <td>NASDAQ</td>\n",
       "      <td>2002-12-31 00:00:00</td>\n",
       "      <td>1.217215</td>\n",
       "      <td>1.215050</td>\n",
       "      <td>31161.276804</td>\n",
       "      <td>71.996695</td>\n",
       "      <td>2.243509e+06</td>\n",
       "      <td>NaN</td>\n",
       "    </tr>\n",
       "  </tbody>\n",
       "</table>\n",
       "<p>100 rows × 14 columns</p>\n",
       "</div>"
      ],
      "text/plain": [
       "       permno  gvkey      month  siccd        industry  exchcd exchange  \\\n",
       "0           1  10001 2003-01-31   9794          Public       3   NASDAQ   \n",
       "240         2  10002 2003-01-31   1746    Construction       3   NASDAQ   \n",
       "480         3  10003 2003-01-31   6619         Finance      33   NASDAQ   \n",
       "720         4  10004 2003-01-31   6041         Finance       1     NYSE   \n",
       "960         5  10005 2003-01-31   4686  Transportation       1     NYSE   \n",
       "...       ...    ...        ...    ...             ...     ...      ...   \n",
       "22800      96  10096 2003-01-31   9884          Public      31     NYSE   \n",
       "23040      97  10097 2003-01-31   7821        Services       3   NASDAQ   \n",
       "23280      98  10098 2003-01-31   2021   Manufacturing       3   NASDAQ   \n",
       "23520      99  10099 2003-01-31   9347          Public       3   NASDAQ   \n",
       "23760     100  10100 2003-01-31   7726        Services      33   NASDAQ   \n",
       "\n",
       "                      date       ret  ret_excess        shrout      altprc  \\\n",
       "0      2002-12-31 00:00:00 -1.000000   -1.000000  15572.481069  752.415572   \n",
       "240    2002-12-31 00:00:00 -0.318671   -0.319585  28229.059133  351.189046   \n",
       "480    2002-12-31 00:00:00  0.026657    0.024397  37935.369553  385.264061   \n",
       "720    2002-12-31 00:00:00  0.034140    0.032324  28567.382632  553.269631   \n",
       "960    2002-12-31 00:00:00 -0.341532   -0.343174  15607.050442  677.585036   \n",
       "...                    ...       ...         ...           ...         ...   \n",
       "22800  2002-12-31 00:00:00  0.621609    0.619888   4376.443315  252.739474   \n",
       "23040  2002-12-31 00:00:00 -0.804507   -0.806231   8616.509513  278.873514   \n",
       "23280  2002-12-31 00:00:00 -0.231012   -0.232311  45160.982936  961.714508   \n",
       "23520  2002-12-31 00:00:00 -0.264879   -0.267014  47818.441230  942.507561   \n",
       "23760  2002-12-31 00:00:00  1.217215    1.215050  31161.276804   71.996695   \n",
       "\n",
       "             mktcap  mktcap_lag  \n",
       "0      1.171698e+07         NaN  \n",
       "240    9.913736e+06         NaN  \n",
       "480    1.461513e+07         NaN  \n",
       "720    1.580547e+07         NaN  \n",
       "960    1.057510e+07         NaN  \n",
       "...             ...         ...  \n",
       "22800  1.106100e+06         NaN  \n",
       "23040  2.402916e+06         NaN  \n",
       "23280  4.343197e+07         NaN  \n",
       "23520  4.506924e+07         NaN  \n",
       "23760  2.243509e+06         NaN  \n",
       "\n",
       "[100 rows x 14 columns]"
      ]
     },
     "execution_count": 117,
     "metadata": {},
     "output_type": "execute_result"
    }
   ],
   "source": [
    "fecha_busqueda = pd.to_datetime(\"2003-01-31\")\n",
    "(crsp_monthly\n",
    "    .query('month == @fecha_busqueda')\n",
    "    .sort_values(by='permno')\n",
    ")"
   ]
  },
  {
   "cell_type": "code",
   "execution_count": 118,
   "metadata": {},
   "outputs": [
    {
     "name": "stdout",
     "output_type": "stream",
     "text": [
      "The answer is because the way to move the market\n",
      "capitalization has been done for each of the 100\n",
      "'permno' and the month, and because the first month\n",
      " is December 2002, the first month is null.\n"
     ]
    }
   ],
   "source": [
    "print(\n",
    "    \"The answer is because the way to move the market\\n\"\n",
    "    \"capitalization has been done for each of the 100\\n\"\n",
    "    \"'permno' and the month, and because the first month\\n\"\n",
    "    \"is December 2002, the first month is null.\")"
   ]
  }
 ],
 "metadata": {
  "kernelspec": {
   "display_name": "projects",
   "language": "python",
   "name": "python3"
  },
  "language_info": {
   "codemirror_mode": {
    "name": "ipython",
    "version": 3
   },
   "file_extension": ".py",
   "mimetype": "text/x-python",
   "name": "python",
   "nbconvert_exporter": "python",
   "pygments_lexer": "ipython3",
   "version": "3.10.13"
  }
 },
 "nbformat": 4,
 "nbformat_minor": 2
}
