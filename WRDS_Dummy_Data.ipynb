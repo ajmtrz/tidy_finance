{
 "cells": [
  {
   "cell_type": "markdown",
   "metadata": {},
   "source": [
    "# [WRDS Dummy Data](https://www.tidy-finance.org/python/wrds-dummy-data.html)"
   ]
  },
  {
   "cell_type": "code",
   "execution_count": 2,
   "metadata": {},
   "outputs": [],
   "source": [
    "import pandas as pd\n",
    "import numpy as np\n",
    "import sqlite3\n",
    "import string"
   ]
  },
  {
   "cell_type": "code",
   "execution_count": 3,
   "metadata": {},
   "outputs": [],
   "source": [
    "tidy_finance = sqlite3.connect(database=\"data/tidy_finance_python.sqlite\")"
   ]
  },
  {
   "cell_type": "code",
   "execution_count": 4,
   "metadata": {},
   "outputs": [],
   "source": [
    "np.random.seed(1234)\n",
    "\n",
    "start_date = pd.Timestamp(\"2003-01-01\")\n",
    "end_date = pd.Timestamp(\"2022-12-31\")\n",
    "\n",
    "dummy_years = np.arange(start_date.year, end_date.year+1, 1)\n",
    "dummy_months = pd.date_range(start_date, end_date, freq=\"ME\")\n",
    "dummy_days = pd.date_range(start_date, end_date, freq=\"D\")"
   ]
  },
  {
   "cell_type": "markdown",
   "metadata": {},
   "source": [
    "# [Create Stock Dummy Data](https://www.tidy-finance.org/python/wrds-dummy-data.html#create-stock-dummy-data)"
   ]
  },
  {
   "cell_type": "code",
   "execution_count": 5,
   "metadata": {},
   "outputs": [],
   "source": [
    "number_of_stocks = 100\n",
    "\n",
    "industries = pd.DataFrame({\n",
    "    \"industry\": [\"Agriculture\", \"Construction\", \"Finance\",\n",
    "                 \"Manufacturing\", \"Mining\", \"Public\", \"Retail\",\n",
    "                 \"Services\", \"Transportation\", \"Utilities\", \"Wholesale\"],\n",
    "    \"n\": [81, 287, 4682, 8584, 1287, 1974, 1571, 4277, 1249, 457, 904],\n",
    "    \"prob\": [0.00319, 0.0113, 0.185, 0.339, 0.0508, 0.0779, \n",
    "           0.0620, 0.169, 0.0493, 0.0180, 0.03451]\n",
    "})\n",
    "\n",
    "exchanges = pd.DataFrame({\n",
    "    \"exchange\": [\"AMEX\", \"NASDAQ\", \"NYSE\"],\n",
    "    \"n\": [2893, 17236, 5553],\n",
    "    \"prob\": [0.113, 0.671, 0.216]\n",
    "})\n",
    "\n",
    "stock_identifiers_list = []\n",
    "for x in range(1, number_of_stocks+1):\n",
    "    exchange = np.random.choice(exchanges[\"exchange\"], p=exchanges[\"prob\"])\n",
    "    industry = np.random.choice(industries[\"industry\"], p=industries[\"prob\"])\n",
    "\n",
    "    exchcd_mapping = {\n",
    "        \"NYSE\": np.random.choice([1, 31]),\n",
    "        \"AMEX\": np.random.choice([2, 32]),\n",
    "        \"NASDAQ\": np.random.choice([3, 33])\n",
    "    }\n",
    "\n",
    "    siccd_mapping = {\n",
    "        \"Agriculture\": np.random.randint(1, 1000),\n",
    "        \"Mining\": np.random.randint(1000, 1500),\n",
    "        \"Construction\": np.random.randint(1500, 1800),\n",
    "        \"Manufacturing\": np.random.randint(1800, 4000),\n",
    "        \"Transportation\": np.random.randint(4000, 4900),\n",
    "        \"Utilities\": np.random.randint(4900, 5000),\n",
    "        \"Wholesale\": np.random.randint(5000, 5200),\n",
    "        \"Retail\": np.random.randint(5200, 6000),\n",
    "        \"Finance\": np.random.randint(6000, 6800),\n",
    "        \"Services\": np.random.randint(7000, 9000),\n",
    "        \"Public\": np.random.randint(9000, 10000)\n",
    "    }\n",
    "\n",
    "    stock_identifiers_list.append({\n",
    "        \"permno\": x,\n",
    "        \"gvkey\": str(x+10000),\n",
    "        \"exchange\": exchange,\n",
    "        \"industry\": industry,\n",
    "        \"exchcd\": exchcd_mapping[exchange],\n",
    "        \"siccd\": siccd_mapping[industry]\n",
    "    })\n",
    "\n",
    "stock_identifiers = pd.DataFrame(stock_identifiers_list)"
   ]
  },
  {
   "cell_type": "code",
   "execution_count": 6,
   "metadata": {},
   "outputs": [],
   "source": [
    "stock_panel_yearly = pd.DataFrame({\n",
    "    \"gvkey\": np.tile(stock_identifiers[\"gvkey\"], len(dummy_years)),\n",
    "    \"year\": np.repeat(dummy_years, len(stock_identifiers))\n",
    "})\n",
    "\n",
    "stock_panel_monthly = pd.DataFrame({\n",
    "    \"permno\": np.tile(stock_identifiers[\"permno\"], len(dummy_months)),\n",
    "    \"gvkey\": np.tile(stock_identifiers[\"gvkey\"], len(dummy_months)),\n",
    "    \"month\": np.repeat(dummy_months, len(stock_identifiers)),\n",
    "    \"siccd\": np.tile(stock_identifiers[\"siccd\"], len(dummy_months)),\n",
    "    \"industry\": np.tile(stock_identifiers[\"industry\"], len(dummy_months)),\n",
    "    \"exchcd\": np.tile(stock_identifiers[\"exchcd\"], len(dummy_months)),\n",
    "    \"exchange\": np.tile(stock_identifiers[\"exchange\"], len(dummy_months))\n",
    "})\n",
    "\n",
    "stock_panel_daily = pd.DataFrame({\n",
    "    \"permno\": np.tile(stock_identifiers[\"permno\"], len(dummy_days)),\n",
    "    \"date\": np.repeat(dummy_days, len(stock_identifiers))\n",
    "})"
   ]
  },
  {
   "cell_type": "markdown",
   "metadata": {},
   "source": [
    "## [Dummy beta table](https://www.tidy-finance.org/python/wrds-dummy-data.html#dummy-beta-table)"
   ]
  },
  {
   "cell_type": "code",
   "execution_count": 7,
   "metadata": {},
   "outputs": [
    {
     "data": {
      "text/plain": [
       "24000"
      ]
     },
     "execution_count": 7,
     "metadata": {},
     "output_type": "execute_result"
    }
   ],
   "source": [
    "beta_dummy = (stock_panel_monthly\n",
    "    .assign(\n",
    "        beta_monthly=np.random.normal(\n",
    "            loc=1, scale=1, size=len(stock_panel_monthly)\n",
    "    ),\n",
    "        beta_daily=lambda x: (\n",
    "            x[\"beta_monthly\"]+np.random.normal(scale=0.01, size=len(x))\n",
    "        )\n",
    "    )\n",
    ")\n",
    "\n",
    "(beta_dummy\n",
    "    .to_sql(name=\"beta\",\n",
    "            con=tidy_finance,\n",
    "            if_exists=\"replace\",\n",
    "            index = False)\n",
    ")"
   ]
  },
  {
   "cell_type": "markdown",
   "metadata": {},
   "source": [
    "## [Dummy compustat table](https://www.tidy-finance.org/python/wrds-dummy-data.html#dummy-compustat-table)"
   ]
  },
  {
   "cell_type": "code",
   "execution_count": 8,
   "metadata": {},
   "outputs": [
    {
     "data": {
      "text/plain": [
       "2000"
      ]
     },
     "execution_count": 8,
     "metadata": {},
     "output_type": "execute_result"
    }
   ],
   "source": [
    "relevant_columns = [\n",
    "    \"seq\", \"ceq\", \"at\", \"lt\", \"txditc\", \"txdb\", \"itcb\",\n",
    "    \"pstkrv\", \"pstkl\", \"pstk\", \"capx\", \"oancf\", \"sale\",\n",
    "    \"cogs\", \"xint\", \"xsga\", \"be\", \"op\", \"at_lag\", \"inv\"\n",
    "]\n",
    "\n",
    "commands = {\n",
    "    col: np.random.rand(len(stock_panel_yearly)) for col in relevant_columns\n",
    "}\n",
    "\n",
    "compustat_dummy = (\n",
    "    stock_panel_yearly\n",
    "    .assign(\n",
    "        datadate=lambda x: pd.to_datetime(x[\"year\"].astype(str)+\"-12-31\")\n",
    "    )\n",
    "    .assign(**commands)\n",
    ")\n",
    "\n",
    "(compustat_dummy\n",
    "    .to_sql(name=\"compustat\",\n",
    "            con=tidy_finance,\n",
    "            if_exists=\"replace\",\n",
    "            index=False)\n",
    ")"
   ]
  },
  {
   "cell_type": "markdown",
   "metadata": {},
   "source": [
    "## [Dummy crsp_monthly table](https://www.tidy-finance.org/python/wrds-dummy-data.html#dummy-crsp_monthly-table)"
   ]
  },
  {
   "cell_type": "code",
   "execution_count": 9,
   "metadata": {},
   "outputs": [
    {
     "data": {
      "text/plain": [
       "24000"
      ]
     },
     "execution_count": 9,
     "metadata": {},
     "output_type": "execute_result"
    }
   ],
   "source": [
    "crsp_monthly_dummy = (stock_panel_monthly\n",
    "    .assign(\n",
    "        date=lambda x: x[\"month\"]+pd.offsets.MonthEnd(-1),\n",
    "        ret=lambda x: np.fmax(np.random.normal(size=len(x)), -1),\n",
    "        ret_excess=lambda x: (\n",
    "            np.fmax(x[\"ret\"]-np.random.uniform(0, 0.0025, len(x)), -1)\n",
    "        ),\n",
    "        shrout=1000*np.random.uniform(1, 50, len(stock_panel_monthly)),\n",
    "        altprc=np.random.uniform(0, 1000, len(stock_panel_monthly))\n",
    "    )\n",
    "    .assign(mktcap=lambda x: x[\"shrout\"]*x[\"altprc\"])\n",
    "    .sort_values(by=[\"permno\", \"month\"])\n",
    "    .assign(\n",
    "        mktcap_lag=lambda x: (x.groupby(\"permno\")[\"mktcap\"].shift(1))\n",
    "    )\n",
    "    .reset_index(drop=True)\n",
    ")\n",
    "\n",
    "(crsp_monthly_dummy\n",
    "    .to_sql(name=\"crsp_monthly\",\n",
    "            con=tidy_finance,\n",
    "            if_exists=\"replace\",\n",
    "            index=False)\n",
    ")"
   ]
  },
  {
   "cell_type": "markdown",
   "metadata": {},
   "source": [
    "## [Dummy crsp_daily table](https://www.tidy-finance.org/python/wrds-dummy-data.html#dummy-crsp_daily-table)"
   ]
  },
  {
   "cell_type": "code",
   "execution_count": 10,
   "metadata": {},
   "outputs": [
    {
     "data": {
      "text/plain": [
       "730500"
      ]
     },
     "execution_count": 10,
     "metadata": {},
     "output_type": "execute_result"
    }
   ],
   "source": [
    "crsp_daily_dummy = (stock_panel_daily\n",
    "    .assign(\n",
    "        month=lambda x: x[\"date\"]-pd.offsets.MonthBegin(1),\n",
    "        ret_excess=lambda x: np.fmax(np.random.normal(size=len(x)), -1)\n",
    "    )\n",
    "    .reset_index(drop=True)\n",
    ")\n",
    "\n",
    "(crsp_daily_dummy\n",
    "    .to_sql(name=\"crsp_daily\",\n",
    "            con=tidy_finance,\n",
    "            if_exists=\"replace\",\n",
    "            index=False)\n",
    ")"
   ]
  }
 ],
 "metadata": {
  "kernelspec": {
   "display_name": "projects",
   "language": "python",
   "name": "python3"
  },
  "language_info": {
   "codemirror_mode": {
    "name": "ipython",
    "version": 3
   },
   "file_extension": ".py",
   "mimetype": "text/x-python",
   "name": "python",
   "nbconvert_exporter": "python",
   "pygments_lexer": "ipython3",
   "version": "3.10.13"
  }
 },
 "nbformat": 4,
 "nbformat_minor": 2
}
