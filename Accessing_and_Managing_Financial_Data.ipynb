{
 "cells": [
  {
   "cell_type": "code",
   "execution_count": 40,
   "metadata": {},
   "outputs": [],
   "source": [
    "import pandas as pd\n",
    "import numpy as np\n",
    "import warnings\n",
    "warnings.filterwarnings('ignore')"
   ]
  },
  {
   "cell_type": "code",
   "execution_count": 41,
   "metadata": {},
   "outputs": [],
   "source": [
    "start_date = \"1960-01-01\"\n",
    "end_date = \"2022-12-31\""
   ]
  },
  {
   "cell_type": "markdown",
   "metadata": {},
   "source": [
    "# [Fama-French Data](https://www.tidy-finance.org/python/accessing-and-managing-financial-data.html#fama-french-data)"
   ]
  },
  {
   "cell_type": "code",
   "execution_count": 42,
   "metadata": {},
   "outputs": [],
   "source": [
    "import pandas_datareader as pdr"
   ]
  },
  {
   "cell_type": "code",
   "execution_count": 150,
   "metadata": {},
   "outputs": [],
   "source": [
    "# return time series of the market (mkt_excess), size (smb), and value (hml) factors alongside the risk-free rates (rf).\n",
    "factors_ff3_monthly_raw = pdr.DataReader(\n",
    "    name=\"F-F_Research_Data_Factors\",\n",
    "    data_source=\"famafrench\",\n",
    "    start=start_date,\n",
    "    end=end_date\n",
    ")[0]\n",
    "\n",
    "factors_ff3_monthly = (factors_ff3_monthly_raw\n",
    "    .divide(100)\n",
    "    .reset_index(names=\"month\")\n",
    "    .assign(month=lambda x: pd.to_datetime(x[\"month\"].astype(str)))\n",
    "    .rename(str.lower, axis=\"columns\")\n",
    "    .rename(columns={\"mkt-rf\": \"mkt_excess\"})\n",
    ")"
   ]
  },
  {
   "cell_type": "code",
   "execution_count": 44,
   "metadata": {},
   "outputs": [],
   "source": [
    "factors_ff5_monthly_raw = pdr.DataReader(\n",
    "    name=\"F-F_Research_Data_5_Factors_2x3\",\n",
    "    data_source=\"famafrench\",\n",
    "    start=start_date,\n",
    "    end=end_date\n",
    ")[0]\n",
    "\n",
    "factors_ff5_monthly = (factors_ff5_monthly_raw\n",
    "    .divide(100)\n",
    "    .reset_index(names=\"month\")\n",
    "    .assign(month=lambda x: pd.to_datetime(x[\"month\"].astype(str)))\n",
    "    .rename(str.lower, axis=\"columns\")\n",
    "    .rename(columns={\"mkt-rf\": \"mkt_excess\"})\n",
    ")"
   ]
  },
  {
   "cell_type": "code",
   "execution_count": 233,
   "metadata": {},
   "outputs": [],
   "source": [
    "factors_ff3_daily_raw = pdr.DataReader(\n",
    "  name=\"F-F_Research_Data_Factors_daily\",\n",
    "  data_source=\"famafrench\", \n",
    "  start=start_date, \n",
    "  end=end_date)[0]\n",
    "\n",
    "factors_ff3_daily = (factors_ff3_daily_raw\n",
    "  .divide(100)\n",
    "  .reset_index(names=\"date\")\n",
    "  .rename(str.lower, axis=\"columns\")\n",
    "  .rename(columns={\"mkt-rf\": \"mkt_excess\"})\n",
    ")"
   ]
  },
  {
   "cell_type": "code",
   "execution_count": 46,
   "metadata": {},
   "outputs": [],
   "source": [
    "industries_ff_monthly_raw = pdr.DataReader(\n",
    "  name=\"10_Industry_Portfolios\",\n",
    "  data_source=\"famafrench\", \n",
    "  start=start_date, \n",
    "  end=end_date)[0]\n",
    "\n",
    "industries_ff_monthly = (industries_ff_monthly_raw\n",
    "  .divide(100)\n",
    "  .reset_index(names=\"month\")\n",
    "  .assign(month=lambda x: pd.to_datetime(x[\"month\"].astype(str)))\n",
    "  .rename(str.lower, axis=\"columns\")\n",
    ")"
   ]
  },
  {
   "cell_type": "code",
   "execution_count": null,
   "metadata": {},
   "outputs": [],
   "source": [
    "# check out the other Fama/Frech datasets\n",
    "#pdr.famafrench.get_available_datasets()"
   ]
  },
  {
   "cell_type": "markdown",
   "metadata": {},
   "source": [
    "# [q-Factors](https://www.tidy-finance.org/python/accessing-and-managing-financial-data.html#q-factors)"
   ]
  },
  {
   "cell_type": "code",
   "execution_count": 54,
   "metadata": {},
   "outputs": [],
   "source": [
    "factors_q_monthly_link = (\n",
    "  \"https://global-q.org/uploads/1/2/2/6/122679606/q5_factors_monthly_2023.csv\"\n",
    ")\n",
    "factors_q_monthly = (pd.read_csv(factors_q_monthly_link)\n",
    "    .assign(\n",
    "        month=lambda x: (\n",
    "            pd.to_datetime(x[\"year\"].astype(str) + \"-\" +\n",
    "                x[\"month\"].astype(str) + \"-01\")\n",
    "        )\n",
    "    )\n",
    "    .drop(columns=[\"R_F\", \"R_MKT\", \"year\"])\n",
    "    .rename(columns=lambda x: x.replace(\"R_\", \"\").lower())\n",
    "    .query(f\"month >= '{start_date}' and month <= '{end_date}'\")\n",
    "    .assign(\n",
    "        **{col: lambda x: x[col]/100 for col in [\"me\", \"ia\", \"roe\", \"eg\"]}\n",
    "    )\n",
    ")"
   ]
  },
  {
   "cell_type": "markdown",
   "metadata": {},
   "source": [
    "# [Macroeconomic Predictors](https://www.tidy-finance.org/python/accessing-and-managing-financial-data.html#macroeconomic-predictors)"
   ]
  },
  {
   "cell_type": "code",
   "execution_count": 55,
   "metadata": {},
   "outputs": [],
   "source": [
    "sheet_id = \"1g4LOaRj4TvwJr9RIaA_nwrXXWTOy46bP\"\n",
    "sheet_name = \"macro_predictors.xlsx\"\n",
    "macro_predictors_link = (\n",
    "  f\"https://docs.google.com/spreadsheets/d/{sheet_id}\" \n",
    "  f\"/gviz/tq?tqx=out:csv&sheet={sheet_name}\"\n",
    ")"
   ]
  },
  {
   "cell_type": "code",
   "execution_count": 56,
   "metadata": {},
   "outputs": [],
   "source": [
    "from pandas import DataFrame\n",
    "\n",
    "\n",
    "macro_predictors: DataFrame = (\n",
    "    pd.read_csv(macro_predictors_link, thousands=\",\")\n",
    "    .assign(\n",
    "        month=lambda x: pd.to_datetime(x[\"yyyymm\"], format=\"%Y%m\"),\n",
    "        dp=lambda x: np.log(x[\"D12\"])-np.log(x[\"Index\"]),\n",
    "        dy=lambda x: np.log(x[\"D12\"])-np.log(x[\"D12\"].shift(1)),\n",
    "        ep=lambda x: np.log(x[\"E12\"])-np.log(x[\"Index\"]),\n",
    "        de=lambda x: np.log(x[\"D12\"])-np.log(x[\"E12\"]),\n",
    "        tms=lambda x: x[\"lty\"]-x[\"tbl\"],\n",
    "        dfy=lambda x: x[\"BAA\"]-x[\"AAA\"]\n",
    "    )\n",
    "    .rename(columns={\"b/m\": \"bm\"})\n",
    "    .get([\"month\", \"dp\", \"dy\", \"ep\", \"de\", \"svar\", \"bm\",\n",
    "          \"ntis\", \"tbl\", \"lty\", \"ltr\", \"tms\", \"dfy\", \"infl\"])\n",
    "    .query(\"month >= @start_date and month <= @end_date\")\n",
    "    .dropna()\n",
    ")"
   ]
  },
  {
   "cell_type": "markdown",
   "metadata": {},
   "source": [
    "# [Other Macroeconomic Data](https://www.tidy-finance.org/python/accessing-and-managing-financial-data.html#other-macroeconomic-data)"
   ]
  },
  {
   "cell_type": "code",
   "execution_count": 58,
   "metadata": {},
   "outputs": [],
   "source": [
    "cpi_monthly = (pdr.DataReader(\n",
    "    name=\"CPIAUCNS\",\n",
    "    data_source=\"fred\",\n",
    "    start=start_date,\n",
    "    end=end_date\n",
    "    )\n",
    "    .reset_index(names=\"month\")\n",
    "    .rename(columns={\"CPIAUCNS\": \"cpi\"})\n",
    "    .assign(cpi=lambda x: x[\"cpi\"]/x[\"cpi\"].iloc[-1])\n",
    ")"
   ]
  },
  {
   "cell_type": "markdown",
   "metadata": {},
   "source": [
    "# [Setting Up a Database](https://www.tidy-finance.org/python/accessing-and-managing-financial-data.html#setting-up-a-database)"
   ]
  },
  {
   "cell_type": "code",
   "execution_count": 64,
   "metadata": {},
   "outputs": [],
   "source": [
    "import sqlite3"
   ]
  },
  {
   "cell_type": "code",
   "execution_count": 67,
   "metadata": {},
   "outputs": [],
   "source": [
    "tidy_finance = sqlite3.connect(database=\"data/tidy_finance_python.sqlite\")"
   ]
  },
  {
   "cell_type": "code",
   "execution_count": 68,
   "metadata": {},
   "outputs": [
    {
     "data": {
      "text/plain": [
       "756"
      ]
     },
     "execution_count": 68,
     "metadata": {},
     "output_type": "execute_result"
    }
   ],
   "source": [
    "(factors_ff3_monthly\n",
    " .to_sql(name=\"factors_ff3_monthly\",\n",
    "         con=tidy_finance,\n",
    "         if_exists=\"replace\",\n",
    "         index=False)\n",
    ")"
   ]
  },
  {
   "cell_type": "code",
   "execution_count": 69,
   "metadata": {},
   "outputs": [
    {
     "data": {
      "text/html": [
       "<div>\n",
       "<style scoped>\n",
       "    .dataframe tbody tr th:only-of-type {\n",
       "        vertical-align: middle;\n",
       "    }\n",
       "\n",
       "    .dataframe tbody tr th {\n",
       "        vertical-align: top;\n",
       "    }\n",
       "\n",
       "    .dataframe thead th {\n",
       "        text-align: right;\n",
       "    }\n",
       "</style>\n",
       "<table border=\"1\" class=\"dataframe\">\n",
       "  <thead>\n",
       "    <tr style=\"text-align: right;\">\n",
       "      <th></th>\n",
       "      <th>month</th>\n",
       "      <th>rf</th>\n",
       "    </tr>\n",
       "  </thead>\n",
       "  <tbody>\n",
       "    <tr>\n",
       "      <th>0</th>\n",
       "      <td>1960-01-01</td>\n",
       "      <td>0.0033</td>\n",
       "    </tr>\n",
       "    <tr>\n",
       "      <th>1</th>\n",
       "      <td>1960-02-01</td>\n",
       "      <td>0.0029</td>\n",
       "    </tr>\n",
       "    <tr>\n",
       "      <th>2</th>\n",
       "      <td>1960-03-01</td>\n",
       "      <td>0.0035</td>\n",
       "    </tr>\n",
       "    <tr>\n",
       "      <th>3</th>\n",
       "      <td>1960-04-01</td>\n",
       "      <td>0.0019</td>\n",
       "    </tr>\n",
       "    <tr>\n",
       "      <th>4</th>\n",
       "      <td>1960-05-01</td>\n",
       "      <td>0.0027</td>\n",
       "    </tr>\n",
       "    <tr>\n",
       "      <th>...</th>\n",
       "      <td>...</td>\n",
       "      <td>...</td>\n",
       "    </tr>\n",
       "    <tr>\n",
       "      <th>751</th>\n",
       "      <td>2022-08-01</td>\n",
       "      <td>0.0019</td>\n",
       "    </tr>\n",
       "    <tr>\n",
       "      <th>752</th>\n",
       "      <td>2022-09-01</td>\n",
       "      <td>0.0019</td>\n",
       "    </tr>\n",
       "    <tr>\n",
       "      <th>753</th>\n",
       "      <td>2022-10-01</td>\n",
       "      <td>0.0023</td>\n",
       "    </tr>\n",
       "    <tr>\n",
       "      <th>754</th>\n",
       "      <td>2022-11-01</td>\n",
       "      <td>0.0029</td>\n",
       "    </tr>\n",
       "    <tr>\n",
       "      <th>755</th>\n",
       "      <td>2022-12-01</td>\n",
       "      <td>0.0033</td>\n",
       "    </tr>\n",
       "  </tbody>\n",
       "</table>\n",
       "<p>756 rows × 2 columns</p>\n",
       "</div>"
      ],
      "text/plain": [
       "         month      rf\n",
       "0   1960-01-01  0.0033\n",
       "1   1960-02-01  0.0029\n",
       "2   1960-03-01  0.0035\n",
       "3   1960-04-01  0.0019\n",
       "4   1960-05-01  0.0027\n",
       "..         ...     ...\n",
       "751 2022-08-01  0.0019\n",
       "752 2022-09-01  0.0019\n",
       "753 2022-10-01  0.0023\n",
       "754 2022-11-01  0.0029\n",
       "755 2022-12-01  0.0033\n",
       "\n",
       "[756 rows x 2 columns]"
      ]
     },
     "execution_count": 69,
     "metadata": {},
     "output_type": "execute_result"
    }
   ],
   "source": [
    "pd.read_sql_query(\n",
    "    sql=\"SELECT month, rf FROM factors_ff3_monthly\",\n",
    "    con=tidy_finance,\n",
    "    parse_dates={\"month\"}\n",
    ")"
   ]
  },
  {
   "cell_type": "code",
   "execution_count": 71,
   "metadata": {},
   "outputs": [],
   "source": [
    "data_dict = {\n",
    "    \"factors_ff5_monthly\": factors_ff3_daily,\n",
    "    \"factors_ff3_daily\": factors_ff3_daily,\n",
    "    \"industries_ff_monthly\": industries_ff_monthly,\n",
    "    \"factors_q_monthly\": factors_q_monthly,\n",
    "    \"macro_predictors\": macro_predictors,\n",
    "    \"cpi_monthly\": cpi_monthly\n",
    "}\n",
    "\n",
    "for key, value in data_dict.items():\n",
    "    value.to_sql(name=key,\n",
    "                 con=tidy_finance,\n",
    "                 if_exists=\"replace\",\n",
    "                 index=False)"
   ]
  },
  {
   "cell_type": "code",
   "execution_count": 72,
   "metadata": {},
   "outputs": [],
   "source": [
    "# Example query\n",
    "factors_q_monthly = pd.read_sql_query(\n",
    "    sql=\"SELECT * FROM factors_q_monthly\",\n",
    "    con=tidy_finance,\n",
    "    parse_dates={\"month\"}\n",
    ")"
   ]
  },
  {
   "cell_type": "code",
   "execution_count": 73,
   "metadata": {},
   "outputs": [
    {
     "data": {
      "text/plain": [
       "<sqlite3.Cursor at 0x7f960a5ee7c0>"
      ]
     },
     "execution_count": 73,
     "metadata": {},
     "output_type": "execute_result"
    }
   ],
   "source": [
    "# Clean database\n",
    "tidy_finance.execute(\"VACUUM\")"
   ]
  },
  {
   "cell_type": "markdown",
   "metadata": {},
   "source": [
    "# [Exercises](https://www.tidy-finance.org/python/accessing-and-managing-financial-data.html#exercises)"
   ]
  },
  {
   "cell_type": "markdown",
   "metadata": {},
   "source": [
    "### 1."
   ]
  },
  {
   "cell_type": "code",
   "execution_count": 160,
   "metadata": {},
   "outputs": [
    {
     "name": "stdout",
     "output_type": "stream",
     "text": [
      "True\n"
     ]
    }
   ],
   "source": [
    "import requests\n",
    "import zipfile\n",
    "import io\n",
    "\n",
    "url_zip_file = \"https://mba.tuck.dartmouth.edu/pages/faculty/ken.french/ftp/F-F_Research_Data_Factors_CSV.zip\"\n",
    "response = requests.get(url_zip_file)\n",
    "if response.status_code == 200:\n",
    "    with zipfile.ZipFile(io.BytesIO(response.content)) as z:\n",
    "        file_name = z.namelist()[0]\n",
    "        first_blank_line = False\n",
    "        column_names = \"\"\n",
    "        values_dict = {}\n",
    "        with z.open(file_name) as f:\n",
    "            for linea in f:\n",
    "                linea = linea.strip()\n",
    "                if not first_blank_line:\n",
    "                    if not linea:\n",
    "                        first_blank_line = True\n",
    "                        continue\n",
    "                elif not linea and first_blank_line:\n",
    "                    break\n",
    "                else:\n",
    "                    values_list = linea.decode('utf-8').split(\",\")\n",
    "                    if column_names == \"\":\n",
    "                        column_names = values_list\n",
    "                        column_names.pop(0)\n",
    "                        continue\n",
    "                    values_dict[pd.to_datetime(values_list[0], format='%Y%m')] = [pd.to_numeric(value) for value in values_list[1:]]\n",
    "    df = (pd.DataFrame.from_dict(\n",
    "        values_dict,\n",
    "        orient='index',\n",
    "        columns=column_names)\n",
    "        .loc[start_date:end_date]\n",
    "        .divide(100)\n",
    "        .reset_index(names=\"month\")\n",
    "        .assign(month=lambda x: pd.to_datetime(x[\"month\"].astype(str)))\n",
    "        .rename(str.lower, axis=\"columns\")\n",
    "        .rename(columns={\"mkt-rf\": \"mkt_excess\"})\n",
    "    )\n",
    "    print(df.equals(factors_ff3_monthly))"
   ]
  },
  {
   "cell_type": "markdown",
   "metadata": {},
   "source": [
    "### 2."
   ]
  },
  {
   "cell_type": "code",
   "execution_count": 239,
   "metadata": {},
   "outputs": [],
   "source": [
    "factors_ff5_daily_raw = pdr.DataReader(\n",
    "  name=\"F-F_Research_Data_5_Factors_2x3_daily\",\n",
    "  data_source=\"famafrench\", \n",
    "  start=start_date, \n",
    "  end=end_date)[0]\n",
    "\n",
    "factors_ff5_daily = (factors_ff5_daily_raw\n",
    "  .divide(100)\n",
    "  .reset_index(names=\"date\")\n",
    "  .rename(str.lower, axis=\"columns\")\n",
    "  .rename(columns={\"mkt-rf\": \"mkt_excess\"})\n",
    ")\n",
    "factors_ff3_daily_compare = (factors_ff3_daily[\n",
    "  factors_ff3_daily[\"date\"].between(\n",
    "    factors_ff5_daily[\"date\"].min(),\n",
    "    factors_ff5_daily[\"date\"].max()\n",
    "  )]\n",
    "  .reset_index(drop=True)\n",
    ")"
   ]
  },
  {
   "cell_type": "code",
   "execution_count": 243,
   "metadata": {},
   "outputs": [
    {
     "data": {
      "text/html": [
       "<div>\n",
       "<style scoped>\n",
       "    .dataframe tbody tr th:only-of-type {\n",
       "        vertical-align: middle;\n",
       "    }\n",
       "\n",
       "    .dataframe tbody tr th {\n",
       "        vertical-align: top;\n",
       "    }\n",
       "\n",
       "    .dataframe thead tr th {\n",
       "        text-align: left;\n",
       "    }\n",
       "</style>\n",
       "<table border=\"1\" class=\"dataframe\">\n",
       "  <thead>\n",
       "    <tr>\n",
       "      <th></th>\n",
       "      <th colspan=\"2\" halign=\"left\">smb</th>\n",
       "    </tr>\n",
       "    <tr>\n",
       "      <th></th>\n",
       "      <th>self</th>\n",
       "      <th>other</th>\n",
       "    </tr>\n",
       "  </thead>\n",
       "  <tbody>\n",
       "    <tr>\n",
       "      <th>count</th>\n",
       "      <td>13862.000000</td>\n",
       "      <td>13862.000000</td>\n",
       "    </tr>\n",
       "    <tr>\n",
       "      <th>mean</th>\n",
       "      <td>0.000047</td>\n",
       "      <td>0.000068</td>\n",
       "    </tr>\n",
       "    <tr>\n",
       "      <th>std</th>\n",
       "      <td>0.005453</td>\n",
       "      <td>0.005459</td>\n",
       "    </tr>\n",
       "    <tr>\n",
       "      <th>min</th>\n",
       "      <td>-0.116300</td>\n",
       "      <td>-0.111900</td>\n",
       "    </tr>\n",
       "    <tr>\n",
       "      <th>25%</th>\n",
       "      <td>-0.002800</td>\n",
       "      <td>-0.002800</td>\n",
       "    </tr>\n",
       "    <tr>\n",
       "      <th>50%</th>\n",
       "      <td>0.000200</td>\n",
       "      <td>0.000200</td>\n",
       "    </tr>\n",
       "    <tr>\n",
       "      <th>75%</th>\n",
       "      <td>0.003000</td>\n",
       "      <td>0.003100</td>\n",
       "    </tr>\n",
       "    <tr>\n",
       "      <th>max</th>\n",
       "      <td>0.062400</td>\n",
       "      <td>0.061700</td>\n",
       "    </tr>\n",
       "  </tbody>\n",
       "</table>\n",
       "</div>"
      ],
      "text/plain": [
       "                smb              \n",
       "               self         other\n",
       "count  13862.000000  13862.000000\n",
       "mean       0.000047      0.000068\n",
       "std        0.005453      0.005459\n",
       "min       -0.116300     -0.111900\n",
       "25%       -0.002800     -0.002800\n",
       "50%        0.000200      0.000200\n",
       "75%        0.003000      0.003100\n",
       "max        0.062400      0.061700"
      ]
     },
     "execution_count": 243,
     "metadata": {},
     "output_type": "execute_result"
    }
   ],
   "source": [
    "factors_ff3_daily_compare.compare(factors_ff5_daily[['date', 'mkt_excess', 'smb', 'hml', 'rf']]).describe()"
   ]
  },
  {
   "cell_type": "markdown",
   "metadata": {},
   "source": [
    "It is possible that the values ​​of the facto \"smb\" are different due to the time periods in which each dataset begins to be calculated: in factor 5 it starts from 1963 and factor 3 starts in {start_date} equal to 1960. No I find another reason for the factor that represents the idea of ​​​​the difference in performance between small and large companies."
   ]
  }
 ],
 "metadata": {
  "kernelspec": {
   "display_name": "projects",
   "language": "python",
   "name": "python3"
  },
  "language_info": {
   "codemirror_mode": {
    "name": "ipython",
    "version": 3
   },
   "file_extension": ".py",
   "mimetype": "text/x-python",
   "name": "python",
   "nbconvert_exporter": "python",
   "pygments_lexer": "ipython3",
   "version": "3.10.13"
  }
 },
 "nbformat": 4,
 "nbformat_minor": 2
}
